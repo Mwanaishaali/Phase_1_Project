{
 "cells": [
  {
   "cell_type": "markdown",
   "id": "b51a9a75",
   "metadata": {},
   "source": [
    "# Aircraft Risk Analysis\n",
    "\n",
    "## 1. Business Understanding\n",
    "\n",
    "### Overview\n",
    "This project seeks to analyze aviation accident data from the **National Transportation Safety Board** to identify the lowest-risk aircraft models and manufacturers.\n",
    "\n",
    "### Problem Statement\n",
    "Which aircraft are safest for our company to purchase as we expand into the aviation industry?\n",
    "\n",
    "### Objectives\n",
    "1. Assess historical aircraft accident trends (1962–2023).\n",
    "2. Identify aircraft types and manufacturers with the lowest risks.\n",
    "3. Provide actionable recommendations for executives.\n",
    "\n",
    "\n",
    "\n",
    "\n",
    "\n"
   ]
  },
  {
   "cell_type": "markdown",
   "id": "ef1570ab",
   "metadata": {},
   "source": [
    "## 2. Data Understanding\n",
    "The dataset **Aviation_Data.csv** contains aviation accident records from 1962-2023 collected by the National Transportation Safety Board in the United States and international waters.\n",
    "\n",
    "The code cell below contain code to inspect the data by first loading it to Pandas."
   ]
  },
  {
   "cell_type": "code",
   "execution_count": 1,
   "id": "19cca31e",
   "metadata": {},
   "outputs": [
    {
     "name": "stderr",
     "output_type": "stream",
     "text": [
      "c:\\Users\\ELITEBOOK\\anaconda3\\envs\\learn-env\\lib\\site-packages\\IPython\\core\\interactiveshell.py:3145: DtypeWarning: Columns (6,7,28) have mixed types.Specify dtype option on import or set low_memory=False.\n",
      "  has_raised = await self.run_ast_nodes(code_ast.body, cell_name,\n"
     ]
    },
    {
     "data": {
      "text/html": [
       "<div>\n",
       "<style scoped>\n",
       "    .dataframe tbody tr th:only-of-type {\n",
       "        vertical-align: middle;\n",
       "    }\n",
       "\n",
       "    .dataframe tbody tr th {\n",
       "        vertical-align: top;\n",
       "    }\n",
       "\n",
       "    .dataframe thead th {\n",
       "        text-align: right;\n",
       "    }\n",
       "</style>\n",
       "<table border=\"1\" class=\"dataframe\">\n",
       "  <thead>\n",
       "    <tr style=\"text-align: right;\">\n",
       "      <th></th>\n",
       "      <th>Event.Id</th>\n",
       "      <th>Investigation.Type</th>\n",
       "      <th>Accident.Number</th>\n",
       "      <th>Event.Date</th>\n",
       "      <th>Location</th>\n",
       "      <th>Country</th>\n",
       "      <th>Latitude</th>\n",
       "      <th>Longitude</th>\n",
       "      <th>Airport.Code</th>\n",
       "      <th>Airport.Name</th>\n",
       "      <th>...</th>\n",
       "      <th>Purpose.of.flight</th>\n",
       "      <th>Air.carrier</th>\n",
       "      <th>Total.Fatal.Injuries</th>\n",
       "      <th>Total.Serious.Injuries</th>\n",
       "      <th>Total.Minor.Injuries</th>\n",
       "      <th>Total.Uninjured</th>\n",
       "      <th>Weather.Condition</th>\n",
       "      <th>Broad.phase.of.flight</th>\n",
       "      <th>Report.Status</th>\n",
       "      <th>Publication.Date</th>\n",
       "    </tr>\n",
       "  </thead>\n",
       "  <tbody>\n",
       "    <tr>\n",
       "      <th>0</th>\n",
       "      <td>20001218X45444</td>\n",
       "      <td>Accident</td>\n",
       "      <td>SEA87LA080</td>\n",
       "      <td>1948-10-24</td>\n",
       "      <td>MOOSE CREEK, ID</td>\n",
       "      <td>United States</td>\n",
       "      <td>NaN</td>\n",
       "      <td>NaN</td>\n",
       "      <td>NaN</td>\n",
       "      <td>NaN</td>\n",
       "      <td>...</td>\n",
       "      <td>Personal</td>\n",
       "      <td>NaN</td>\n",
       "      <td>2.0</td>\n",
       "      <td>0.0</td>\n",
       "      <td>0.0</td>\n",
       "      <td>0.0</td>\n",
       "      <td>UNK</td>\n",
       "      <td>Cruise</td>\n",
       "      <td>Probable Cause</td>\n",
       "      <td>NaN</td>\n",
       "    </tr>\n",
       "    <tr>\n",
       "      <th>1</th>\n",
       "      <td>20001218X45447</td>\n",
       "      <td>Accident</td>\n",
       "      <td>LAX94LA336</td>\n",
       "      <td>1962-07-19</td>\n",
       "      <td>BRIDGEPORT, CA</td>\n",
       "      <td>United States</td>\n",
       "      <td>NaN</td>\n",
       "      <td>NaN</td>\n",
       "      <td>NaN</td>\n",
       "      <td>NaN</td>\n",
       "      <td>...</td>\n",
       "      <td>Personal</td>\n",
       "      <td>NaN</td>\n",
       "      <td>4.0</td>\n",
       "      <td>0.0</td>\n",
       "      <td>0.0</td>\n",
       "      <td>0.0</td>\n",
       "      <td>UNK</td>\n",
       "      <td>Unknown</td>\n",
       "      <td>Probable Cause</td>\n",
       "      <td>19-09-1996</td>\n",
       "    </tr>\n",
       "    <tr>\n",
       "      <th>2</th>\n",
       "      <td>20061025X01555</td>\n",
       "      <td>Accident</td>\n",
       "      <td>NYC07LA005</td>\n",
       "      <td>1974-08-30</td>\n",
       "      <td>Saltville, VA</td>\n",
       "      <td>United States</td>\n",
       "      <td>36.9222</td>\n",
       "      <td>-81.8781</td>\n",
       "      <td>NaN</td>\n",
       "      <td>NaN</td>\n",
       "      <td>...</td>\n",
       "      <td>Personal</td>\n",
       "      <td>NaN</td>\n",
       "      <td>3.0</td>\n",
       "      <td>NaN</td>\n",
       "      <td>NaN</td>\n",
       "      <td>NaN</td>\n",
       "      <td>IMC</td>\n",
       "      <td>Cruise</td>\n",
       "      <td>Probable Cause</td>\n",
       "      <td>26-02-2007</td>\n",
       "    </tr>\n",
       "    <tr>\n",
       "      <th>3</th>\n",
       "      <td>20001218X45448</td>\n",
       "      <td>Accident</td>\n",
       "      <td>LAX96LA321</td>\n",
       "      <td>1977-06-19</td>\n",
       "      <td>EUREKA, CA</td>\n",
       "      <td>United States</td>\n",
       "      <td>NaN</td>\n",
       "      <td>NaN</td>\n",
       "      <td>NaN</td>\n",
       "      <td>NaN</td>\n",
       "      <td>...</td>\n",
       "      <td>Personal</td>\n",
       "      <td>NaN</td>\n",
       "      <td>2.0</td>\n",
       "      <td>0.0</td>\n",
       "      <td>0.0</td>\n",
       "      <td>0.0</td>\n",
       "      <td>IMC</td>\n",
       "      <td>Cruise</td>\n",
       "      <td>Probable Cause</td>\n",
       "      <td>12-09-2000</td>\n",
       "    </tr>\n",
       "    <tr>\n",
       "      <th>4</th>\n",
       "      <td>20041105X01764</td>\n",
       "      <td>Accident</td>\n",
       "      <td>CHI79FA064</td>\n",
       "      <td>1979-08-02</td>\n",
       "      <td>Canton, OH</td>\n",
       "      <td>United States</td>\n",
       "      <td>NaN</td>\n",
       "      <td>NaN</td>\n",
       "      <td>NaN</td>\n",
       "      <td>NaN</td>\n",
       "      <td>...</td>\n",
       "      <td>Personal</td>\n",
       "      <td>NaN</td>\n",
       "      <td>1.0</td>\n",
       "      <td>2.0</td>\n",
       "      <td>NaN</td>\n",
       "      <td>0.0</td>\n",
       "      <td>VMC</td>\n",
       "      <td>Approach</td>\n",
       "      <td>Probable Cause</td>\n",
       "      <td>16-04-1980</td>\n",
       "    </tr>\n",
       "  </tbody>\n",
       "</table>\n",
       "<p>5 rows × 31 columns</p>\n",
       "</div>"
      ],
      "text/plain": [
       "         Event.Id Investigation.Type Accident.Number  Event.Date  \\\n",
       "0  20001218X45444           Accident      SEA87LA080  1948-10-24   \n",
       "1  20001218X45447           Accident      LAX94LA336  1962-07-19   \n",
       "2  20061025X01555           Accident      NYC07LA005  1974-08-30   \n",
       "3  20001218X45448           Accident      LAX96LA321  1977-06-19   \n",
       "4  20041105X01764           Accident      CHI79FA064  1979-08-02   \n",
       "\n",
       "          Location        Country Latitude Longitude Airport.Code  \\\n",
       "0  MOOSE CREEK, ID  United States      NaN       NaN          NaN   \n",
       "1   BRIDGEPORT, CA  United States      NaN       NaN          NaN   \n",
       "2    Saltville, VA  United States  36.9222  -81.8781          NaN   \n",
       "3       EUREKA, CA  United States      NaN       NaN          NaN   \n",
       "4       Canton, OH  United States      NaN       NaN          NaN   \n",
       "\n",
       "  Airport.Name  ... Purpose.of.flight Air.carrier Total.Fatal.Injuries  \\\n",
       "0          NaN  ...          Personal         NaN                  2.0   \n",
       "1          NaN  ...          Personal         NaN                  4.0   \n",
       "2          NaN  ...          Personal         NaN                  3.0   \n",
       "3          NaN  ...          Personal         NaN                  2.0   \n",
       "4          NaN  ...          Personal         NaN                  1.0   \n",
       "\n",
       "  Total.Serious.Injuries Total.Minor.Injuries Total.Uninjured  \\\n",
       "0                    0.0                  0.0             0.0   \n",
       "1                    0.0                  0.0             0.0   \n",
       "2                    NaN                  NaN             NaN   \n",
       "3                    0.0                  0.0             0.0   \n",
       "4                    2.0                  NaN             0.0   \n",
       "\n",
       "  Weather.Condition  Broad.phase.of.flight   Report.Status Publication.Date  \n",
       "0               UNK                 Cruise  Probable Cause              NaN  \n",
       "1               UNK                Unknown  Probable Cause       19-09-1996  \n",
       "2               IMC                 Cruise  Probable Cause       26-02-2007  \n",
       "3               IMC                 Cruise  Probable Cause       12-09-2000  \n",
       "4               VMC               Approach  Probable Cause       16-04-1980  \n",
       "\n",
       "[5 rows x 31 columns]"
      ]
     },
     "execution_count": 1,
     "metadata": {},
     "output_type": "execute_result"
    }
   ],
   "source": [
    "# importing the necessary libraries\n",
    "import pandas as pd\n",
    "import matplotlib.pyplot as plt\n",
    "\n",
    "# loading data to pandas dataframe\n",
    "df = pd.read_csv('data/Aviation_Data.csv')\n",
    "\n",
    "# Quick look into data\n",
    "df.head()\n"
   ]
  },
  {
   "cell_type": "code",
   "execution_count": 2,
   "id": "ffd77fa2",
   "metadata": {},
   "outputs": [
    {
     "data": {
      "text/plain": [
       "(90348, 31)"
      ]
     },
     "execution_count": 2,
     "metadata": {},
     "output_type": "execute_result"
    }
   ],
   "source": [
    "# checking dataset dimensionanality\n",
    "df.shape"
   ]
  },
  {
   "cell_type": "code",
   "execution_count": 3,
   "id": "afafea59",
   "metadata": {},
   "outputs": [
    {
     "name": "stdout",
     "output_type": "stream",
     "text": [
      "<class 'pandas.core.frame.DataFrame'>\n",
      "RangeIndex: 90348 entries, 0 to 90347\n",
      "Data columns (total 31 columns):\n",
      " #   Column                  Non-Null Count  Dtype  \n",
      "---  ------                  --------------  -----  \n",
      " 0   Event.Id                88889 non-null  object \n",
      " 1   Investigation.Type      90348 non-null  object \n",
      " 2   Accident.Number         88889 non-null  object \n",
      " 3   Event.Date              88889 non-null  object \n",
      " 4   Location                88837 non-null  object \n",
      " 5   Country                 88663 non-null  object \n",
      " 6   Latitude                34382 non-null  object \n",
      " 7   Longitude               34373 non-null  object \n",
      " 8   Airport.Code            50249 non-null  object \n",
      " 9   Airport.Name            52790 non-null  object \n",
      " 10  Injury.Severity         87889 non-null  object \n",
      " 11  Aircraft.damage         85695 non-null  object \n",
      " 12  Aircraft.Category       32287 non-null  object \n",
      " 13  Registration.Number     87572 non-null  object \n",
      " 14  Make                    88826 non-null  object \n",
      " 15  Model                   88797 non-null  object \n",
      " 16  Amateur.Built           88787 non-null  object \n",
      " 17  Number.of.Engines       82805 non-null  float64\n",
      " 18  Engine.Type             81812 non-null  object \n",
      " 19  FAR.Description         32023 non-null  object \n",
      " 20  Schedule                12582 non-null  object \n",
      " 21  Purpose.of.flight       82697 non-null  object \n",
      " 22  Air.carrier             16648 non-null  object \n",
      " 23  Total.Fatal.Injuries    77488 non-null  float64\n",
      " 24  Total.Serious.Injuries  76379 non-null  float64\n",
      " 25  Total.Minor.Injuries    76956 non-null  float64\n",
      " 26  Total.Uninjured         82977 non-null  float64\n",
      " 27  Weather.Condition       84397 non-null  object \n",
      " 28  Broad.phase.of.flight   61724 non-null  object \n",
      " 29  Report.Status           82508 non-null  object \n",
      " 30  Publication.Date        73659 non-null  object \n",
      "dtypes: float64(5), object(26)\n",
      "memory usage: 21.4+ MB\n"
     ]
    }
   ],
   "source": [
    "# checking dataset info\n",
    "df.info()"
   ]
  },
  {
   "cell_type": "markdown",
   "id": "138ee161",
   "metadata": {},
   "source": [
    "## 3. Data preparation\n",
    "From the data understanding above, we can clearly see that the data needs to be cleaned and prepared before analysis is done.\n",
    "\n",
    "Under data preparation, we check and impute for the following:\n",
    "- missing values\n",
    "- duplicate records\n",
    "- extraneous and erroneous data"
   ]
  },
  {
   "cell_type": "markdown",
   "id": "1da2741f",
   "metadata": {},
   "source": [
    "####   1. Checking and handling of missing records"
   ]
  },
  {
   "cell_type": "code",
   "execution_count": 4,
   "id": "1ed1caeb",
   "metadata": {},
   "outputs": [
    {
     "data": {
      "text/plain": [
       "Event.Id                   1459\n",
       "Investigation.Type            0\n",
       "Accident.Number            1459\n",
       "Event.Date                 1459\n",
       "Location                   1511\n",
       "Country                    1685\n",
       "Latitude                  55966\n",
       "Longitude                 55975\n",
       "Airport.Code              40099\n",
       "Airport.Name              37558\n",
       "Injury.Severity            2459\n",
       "Aircraft.damage            4653\n",
       "Aircraft.Category         58061\n",
       "Registration.Number        2776\n",
       "Make                       1522\n",
       "Model                      1551\n",
       "Amateur.Built              1561\n",
       "Number.of.Engines          7543\n",
       "Engine.Type                8536\n",
       "FAR.Description           58325\n",
       "Schedule                  77766\n",
       "Purpose.of.flight          7651\n",
       "Air.carrier               73700\n",
       "Total.Fatal.Injuries      12860\n",
       "Total.Serious.Injuries    13969\n",
       "Total.Minor.Injuries      13392\n",
       "Total.Uninjured            7371\n",
       "Weather.Condition          5951\n",
       "Broad.phase.of.flight     28624\n",
       "Report.Status              7840\n",
       "Publication.Date          16689\n",
       "dtype: int64"
      ]
     },
     "execution_count": 4,
     "metadata": {},
     "output_type": "execute_result"
    }
   ],
   "source": [
    "# checking for number of  missing values per column\n",
    "df.isna().sum()"
   ]
  },
  {
   "cell_type": "markdown",
   "id": "b8a663d7",
   "metadata": {},
   "source": [
    "From the above code cells, we can see the total number of missing or NaN values for each of the fields in the dataset. \n",
    "\n",
    "`Investigation.Type` is the only field with no missing values/NaN values\n",
    "\n",
    "In this section, we shall handle the NaN values and  understand the criteria for the choice of handling them. \n",
    "\n",
    "**Columns/Fields to be completely dropped**\n",
    "\n",
    "These columns do not contribute to assessing aircraft safety or are too incomplete\n",
    "- Event.Id, Accident.Number, Registration.Number → Identifiers only, not useful for analysis\n",
    "- Report.Status, Publication.Date → Metadata, does not affect risk.\n",
    "- Latitude, Longitude → Too many missing values, not needed unless mapping.\n",
    "- Airport.Code, Airport.Name → Too sparse and specific, not relevant to purchase decision.\n",
    "- FAR.Description → Technical/regulatory info, too incomplete.\n",
    "- Schedule, Air.carrier → Too many missing values, not essential for aircraft-level risk."
   ]
  },
  {
   "cell_type": "code",
   "execution_count": 5,
   "id": "bfa3b241",
   "metadata": {},
   "outputs": [],
   "source": [
    "# dropping columns\n",
    "df.drop(columns=['Event.Id', 'Accident.Number', 'Registration.Number', 'Report.Status', 'Publication.Date','Latitude', 'Longitude' , 'Airport.Code', 'Airport.Name' , 'FAR.Description','Schedule', 'Air.carrier'], inplace=True)"
   ]
  },
  {
   "cell_type": "code",
   "execution_count": 6,
   "id": "b6a31bc2",
   "metadata": {},
   "outputs": [
    {
     "data": {
      "text/plain": [
       "(90348, 19)"
      ]
     },
     "execution_count": 6,
     "metadata": {},
     "output_type": "execute_result"
    }
   ],
   "source": [
    "# checking to see the new number of columns after dropping fields\n",
    "df.shape"
   ]
  },
  {
   "cell_type": "markdown",
   "id": "b6d72fb4",
   "metadata": {},
   "source": [
    "**Columns/Fields to be Filled with 'Unknown'**\n",
    "\n",
    "These fields are useful, but missing values don’t break the analysis. Using “Unknown” keeps the rows while acknowledging incomplete info.These are categorical data.\n",
    "- Make, Model → Essential for aircraft risk; mark missing as “Unknown”.\n",
    "- Aircraft.Category → Important for grouping by type (plane, helicopter, etc.).\n",
    "- Engine.Type → Different engine types may have different risks.\n",
    "- Injury.Severity, Aircraft.damage → Key outcomes, keep with “Unknown” if missing.\n",
    "- Purpose.of.flight → Useful to compare private vs commercial accidents.\n",
    "- Weather.Condition → Weather influences risk; “Unknown” is safer than dropping.\n",
    "- Broad.phase.of.flight → Helps identify when accidents happen; missing filled as “Unknown”.\n",
    "- Location, Country → Contextual info, but not critical enough to drop rows."
   ]
  },
  {
   "cell_type": "code",
   "execution_count": 7,
   "id": "fa66e131",
   "metadata": {},
   "outputs": [],
   "source": [
    "# Fill multiple columns with \"Unknown\"\n",
    "df.fillna({\n",
    "    \"Make\": \"Unknown\",\n",
    "    \"Model\": \"Unknown\",\n",
    "    \"Aircraft.Category\": \"Unknown\",\n",
    "    \"Engine.Type\": \"Unknown\",\n",
    "    \"Injury.Severity\": \"Unknown\",\n",
    "    \"Aircraft.damage\": \"Unknown\",\n",
    "    \"Purpose.of.flight\": \"Unknown\",\n",
    "    \"Weather.Condition\": \"Unknown\",\n",
    "    \"Broad.phase.of.flight\": \"Unknown\",\n",
    "    \"Location\": \"Unknown\",\n",
    "    \"Country\": \"Unknown\"\n",
    "}, inplace=True)\n"
   ]
  },
  {
   "cell_type": "markdown",
   "id": "949e01a5",
   "metadata": {},
   "source": [
    "**Columns/Fields to be Imputed**\n",
    "\n",
    "These fields can be meaningfully imputed without distorting analysis.\n",
    "\n",
    "- Number.of.Engines → Impute with median (most aircraft have 1–2 engines).\n",
    "\n",
    "- Amateur.Built → Default to “No”, since most aircraft are not homebuilt.\n",
    "\n",
    "- Total.Fatal.Injuries, Total.Serious.Injuries, Total.Minor.Injuries, Total.   Uninjured → If missing, assume 0 (no injuries recorded)."
   ]
  },
  {
   "cell_type": "code",
   "execution_count": 8,
   "id": "29770560",
   "metadata": {},
   "outputs": [],
   "source": [
    "# Imputing Number.of.Engines with median\n",
    "df['Number.of.Engines'].fillna(df['Number.of.Engines'].median(), inplace=True)\n",
    "\n",
    "# Imputing Amateur.Built with 'No'\n",
    "df['Amateur.Built'].fillna('No', inplace=True)\n",
    "\n",
    "# Imputing Total.Fatal.Injuries, Total.Serious.Injuries, Total.Minor.Injuries, Total.Uninjured with 0 (no injuries recorded)\n",
    "df.fillna({\n",
    "    \"Total.Fatal.Injuries\": 0,\n",
    "    \"Total.Serious.Injuries\": 0,\n",
    "    \"Total.Minor.Injuries\": 0,\n",
    "    \"Total.Uninjured\": 0\n",
    "}, inplace=True)\n",
    "\n"
   ]
  },
  {
   "cell_type": "markdown",
   "id": "fcae59ed",
   "metadata": {},
   "source": [
    "**Dropping of only missing values in Column Event.Date**\n",
    "\n",
    "Because `Event.Date` has only got 69 missing values, we can afford to drop them but not the entire column because the column is required for time-based analysis.\n",
    " \n",
    "Rows missing this field will be dropped."
   ]
  },
  {
   "cell_type": "code",
   "execution_count": 9,
   "id": "ee0763ac",
   "metadata": {},
   "outputs": [],
   "source": [
    "# dropping just the NaN values from column Event.Date\n",
    "df = df.dropna(subset=['Event.Date'])"
   ]
  },
  {
   "cell_type": "markdown",
   "id": "9a239a6c",
   "metadata": {},
   "source": [
    "All missing values in the data frame have been successfully handled.\n",
    "\n",
    "We can see this by checking for missing values, see below"
   ]
  },
  {
   "cell_type": "code",
   "execution_count": 10,
   "id": "e64ab41d",
   "metadata": {},
   "outputs": [
    {
     "data": {
      "text/plain": [
       "Investigation.Type        0\n",
       "Event.Date                0\n",
       "Location                  0\n",
       "Country                   0\n",
       "Injury.Severity           0\n",
       "Aircraft.damage           0\n",
       "Aircraft.Category         0\n",
       "Make                      0\n",
       "Model                     0\n",
       "Amateur.Built             0\n",
       "Number.of.Engines         0\n",
       "Engine.Type               0\n",
       "Purpose.of.flight         0\n",
       "Total.Fatal.Injuries      0\n",
       "Total.Serious.Injuries    0\n",
       "Total.Minor.Injuries      0\n",
       "Total.Uninjured           0\n",
       "Weather.Condition         0\n",
       "Broad.phase.of.flight     0\n",
       "dtype: int64"
      ]
     },
     "execution_count": 10,
     "metadata": {},
     "output_type": "execute_result"
    }
   ],
   "source": [
    "# checking for missing values\n",
    "df.isna().sum() "
   ]
  },
  {
   "cell_type": "markdown",
   "id": "ca84562f",
   "metadata": {},
   "source": [
    "####   2. Checking and handling of duplicated records"
   ]
  },
  {
   "cell_type": "code",
   "execution_count": 11,
   "id": "e9f399c7",
   "metadata": {},
   "outputs": [
    {
     "data": {
      "text/plain": [
       "False    88854\n",
       "True        35\n",
       "dtype: int64"
      ]
     },
     "execution_count": 11,
     "metadata": {},
     "output_type": "execute_result"
    }
   ],
   "source": [
    "# checking for duplicates\n",
    "df.duplicated().value_counts()"
   ]
  },
  {
   "cell_type": "markdown",
   "id": "d098c020",
   "metadata": {},
   "source": [
    "From the code above, it is clear that we have **35 duplicated records** in our data.\n",
    " \n",
    "The code cell below, will handle the duplicates by removing them from the data "
   ]
  },
  {
   "cell_type": "code",
   "execution_count": 12,
   "id": "44e512b7",
   "metadata": {},
   "outputs": [],
   "source": [
    "# removing duplicates\n",
    "df = df.drop_duplicates()"
   ]
  },
  {
   "cell_type": "code",
   "execution_count": 13,
   "id": "a2ab73e4",
   "metadata": {},
   "outputs": [
    {
     "name": "stdout",
     "output_type": "stream",
     "text": [
      "(88854, 19)\n"
     ]
    },
    {
     "data": {
      "text/plain": [
       "False    88854\n",
       "dtype: int64"
      ]
     },
     "execution_count": 13,
     "metadata": {},
     "output_type": "execute_result"
    }
   ],
   "source": [
    "# check data dimensionality - 1390 records have been successfully removed thus, current number of rows is 88958\n",
    "print(df.shape)\n",
    "\n",
    "# checking for duplicates\n",
    "df.duplicated().value_counts()"
   ]
  },
  {
   "cell_type": "markdown",
   "id": "38e1c807",
   "metadata": {},
   "source": [
    "#### 3. Convert `Event.Date` to datetime & extract year\n",
    "\n",
    "Dates are usually read as strings, but we want them as real datetime objects so we can group by year\n",
    "\n",
    "Extracting the year lets you analyze accident trends over time\n",
    "\n",
    "\n"
   ]
  },
  {
   "cell_type": "code",
   "execution_count": 14,
   "id": "521ddcc6",
   "metadata": {},
   "outputs": [],
   "source": [
    "# convert Event.Date to datetime\n",
    "df['Event.Date'] = pd.to_datetime(df['Event.Date'], errors='coerce')\n",
    "\n",
    "# Extract year into a new column\n",
    "df['Year'] = df['Event.Date'].dt.year"
   ]
  },
  {
   "cell_type": "code",
   "execution_count": 15,
   "id": "c189b84b",
   "metadata": {},
   "outputs": [
    {
     "name": "stdout",
     "output_type": "stream",
     "text": [
      "0   1948-10-24\n",
      "1   1962-07-19\n",
      "2   1974-08-30\n",
      "3   1977-06-19\n",
      "4   1979-08-02\n",
      "Name: Event.Date, dtype: datetime64[ns]\n",
      "[1948 1962 1974 1977 1979 1981 1982 1983 1984 1985]\n"
     ]
    }
   ],
   "source": [
    "# print to view cleaned Event.Date columm values and the  first 10 values of the newly created Year col\n",
    "print(df['Event.Date'].head())\n",
    "print(df['Year'].unique()[:10])"
   ]
  },
  {
   "cell_type": "markdown",
   "id": "d1a18403",
   "metadata": {},
   "source": [
    "#### 4. Standardize column names for easier analysis\n",
    "\n",
    "Current columns like `Aircraft.damage` or `Total.Fatal.Injuries` have inconsistent casing, dots, and spaces.\n",
    "\n",
    "Standardizing makes it easier to call them in code\n",
    "\n"
   ]
  },
  {
   "cell_type": "code",
   "execution_count": 17,
   "id": "15e19e9d",
   "metadata": {},
   "outputs": [
    {
     "name": "stdout",
     "output_type": "stream",
     "text": [
      "['investigation_type', 'event_date', 'location', 'country', 'injury_severity', 'aircraft_damage', 'aircraft_category', 'make', 'model', 'amateur_built', 'number_of_engines', 'engine_type', 'purpose_of_flight', 'total_fatal_injuries', 'total_serious_injuries', 'total_minor_injuries', 'total_uninjured', 'weather_condition', 'broad_phase_of_flight', 'year']\n"
     ]
    }
   ],
   "source": [
    "# Standardize column names: lowercase + replace spaces/dots with underscores\n",
    "df.columns = df.columns.str.strip().str.lower().str.replace(r'[ .]', '_', regex=True)\n",
    "\n",
    "print(df.columns.tolist())"
   ]
  },
  {
   "cell_type": "markdown",
   "id": "01e3baf7",
   "metadata": {},
   "source": [
    "## 4. Data Analysis\n",
    "\n",
    "Now that our data is prepared/cleaned, we can proceed to analysis.\n",
    "\n",
    "The goal of the analysis is to determine which aircrafts are the lowest risk for the company to purchase.\n",
    "\n",
    "Hence, we will focus on accident patterns by aircraft type, manufacturer, engine and severity."
   ]
  },
  {
   "cell_type": "markdown",
   "id": "598dc14d",
   "metadata": {},
   "source": [
    "#### 1. Safest Manufacturers (by fatalities per accident)\n",
    "\n",
    "**Question :** Which aircraft manufacturers (makes) have the lowest risk based on accident history?"
   ]
  },
  {
   "cell_type": "code",
   "execution_count": 51,
   "id": "1fe0008c",
   "metadata": {},
   "outputs": [
    {
     "data": {
      "image/png": "[encoded data removed]",
      "text/plain": [
       "<Figure size 720x360 with 1 Axes>"
      ]
     },
     "metadata": {
      "needs_background": "light"
     },
     "output_type": "display_data"
    }
   ],
   "source": [
    "# Group by manufacturer (make) and compute safety metrics\n",
    "group = df.groupby('make').agg(\n",
    "    accident_count=('make','size'),\n",
    "    total_fatalities=('total_fatal_injuries','sum'),\n",
    "    accidents_with_fatalities=('total_fatal_injuries', lambda x: (x > 0).sum())\n",
    ").reset_index()\n",
    "\n",
    "# Derived metrics\n",
    "group['fatalities_per_accident'] = group['total_fatalities'] / group['accident_count']\n",
    "group['pct_accidents_with_fatalities'] = group['accidents_with_fatalities'] / group['accident_count']\n",
    "\n",
    "# Filter by minimum number of accidents to ensure reliability\n",
    "min_accidents = 30\n",
    "group_filtered = group[group['accident_count'] >= min_accidents].sort_values('fatalities_per_accident')\n",
    "\n",
    "# Plot top 10 safest makes\n",
    "top_n = 10\n",
    "safest = group_filtered.head(top_n)\n",
    "\n",
    "fig, ax = plt.subplots(figsize=(10,5))\n",
    "ax.barh(safest['make'], safest['fatalities_per_accident'], color=\"green\")\n",
    "ax.set_xlabel('Avg Fatalities per Accident')\n",
    "ax.set_title(f'Top {top_n} Safest Aircraft Manufacturers (min {min_accidents} accidents)')\n",
    "plt.gca().invert_yaxis()\n",
    "plt.show()"
   ]
  },
  {
   "cell_type": "markdown",
   "id": "863494dd",
   "metadata": {},
   "source": [
    "**Chart Interpretaion :** \n",
    "\n",
    "- The bar chart shows the top 10 safest aircraft manufacturers ranked by average fatalities per accident (with a minimum of 30 recorded accidents to ensure reliability).\n",
    "\n",
    "- Among these, GRUMMAN ACFT ENG COR-SCHWEIZER emerges as the safest manufacturer, recording the lowest average fatalities per accident.\n",
    "\n",
    "- Other manufacturers like Raven, STINSON, Grumman-Schweizer, COSTRUZIONI AERONAUTICHE TECNA, and Hiller also perform strongly, maintaining relatively low accident severity.\n",
    "\n",
    "- At the higher end of the group, Balloon Works shows the highest average fatalities per accident among this “safest” set , but it is still safer than many manufacturers not included in the top 10.\n"
   ]
  },
  {
   "cell_type": "markdown",
   "id": "fa5c5fd6",
   "metadata": {},
   "source": [
    "**Answer :**\n",
    "\n",
    "The analysis indicates that **GRUMMAN ACFT ENG COR-SCHWEIZER, Raven, and STINSON are historically the safest manufacturers, with consistently low accident severity.**\n",
    "\n",
    " For the company’s expansion strategy, these makes represent low-risk options for initial aircraft purchases. \n",
    " \n",
    " On the other hand, manufacturers like Balloon Works, while still relatively safe compared to the wider market, show higher severity and may carry slightly greater operational risk."
   ]
  },
  {
   "cell_type": "markdown",
   "id": "91e30cad",
   "metadata": {},
   "source": [
    "#### 2. Safest Aircraft Models by Accident Severity\n",
    "\n",
    "**Question :** Which aircraft models have historically shown the lowest accident severity?"
   ]
  },
  {
   "cell_type": "code",
   "execution_count": 58,
   "id": "8cc1a4c2",
   "metadata": {},
   "outputs": [
    {
     "name": "stderr",
     "output_type": "stream",
     "text": [
      "<ipython-input-58-524aea90a242>:15: SettingWithCopyWarning: \n",
      "A value is trying to be set on a copy of a slice from a DataFrame.\n",
      "Try using .loc[row_indexer,col_indexer] = value instead\n",
      "\n",
      "See the caveats in the documentation: https://pandas.pydata.org/pandas-docs/stable/user_guide/indexing.html#returning-a-view-versus-a-copy\n",
      "  model_filtered['fatality_rate'] = model_filtered['fatal_accidents'] / model_filtered['accident_count']\n"
     ]
    },
    {
     "data": {
      "image/png": "[encoded data removed]",
      "text/plain": [
       "<Figure size 720x432 with 1 Axes>"
      ]
     },
     "metadata": {
      "needs_background": "light"
     },
     "output_type": "display_data"
    }
   ],
   "source": [
    "# Group by model\n",
    "model_group = df.groupby('model').agg(\n",
    "    accident_count=('model','size'),\n",
    "    fatal_accidents=('total_fatal_injuries', lambda x: (x > 0).sum())\n",
    ").reset_index()\n",
    "\n",
    "# Add non-fatal accidents\n",
    "model_group['non_fatal_accidents'] = model_group['accident_count'] - model_group['fatal_accidents']\n",
    "\n",
    "# Filter for reliability (only models with at least 20 accidents)\n",
    "min_accidents_model = 20\n",
    "model_filtered = model_group[model_group['accident_count'] >= min_accidents_model]\n",
    "\n",
    "# Sort by fatal accident share\n",
    "model_filtered['fatality_rate'] = model_filtered['fatal_accidents'] / model_filtered['accident_count']\n",
    "safest_models = model_filtered.sort_values('fatality_rate').head(10)\n",
    "\n",
    "# Plot stacked bar (fatal vs non-fatal accidents)\n",
    "fig, ax = plt.subplots(figsize=(10,6))\n",
    "ax.barh(safest_models['model'], safest_models['non_fatal_accidents'], label='Non-Fatal Accidents', color='green')\n",
    "ax.barh(safest_models['model'], safest_models['fatal_accidents'], \n",
    "        left=safest_models['non_fatal_accidents'], label='Fatal Accidents', color='red')\n",
    "\n",
    "ax.set_xlabel(\"Number of Accidents\")\n",
    "ax.set_title(f\"Top 10 Safest Aircraft Models by Accident Severity (min {min_accidents_model} accidents)\")\n",
    "ax.legend()\n",
    "plt.gca().invert_yaxis()\n",
    "plt.show()\n",
    "\n",
    "\n"
   ]
  },
  {
   "cell_type": "markdown",
   "id": "e3e7bb2d",
   "metadata": {},
   "source": [
    "**Chart Interpretaion :** \n",
    "\n",
    "- All top 10 models in the chart show almost entirely green bars (non-fatal accidents) with negligible or no red segments (fatal accidents).\n",
    "\n",
    "- The Boeing 777 stands out with the highest number of reported accidents among this group — yet none of them are fatal, making it an exceptionally safe commercial aircraft.\n",
    "\n",
    "- Similarly, models like the EMB-145LR, PA-18, and 757-232 also report multiple accidents but consistently non-fatal outcomes.\n",
    "\n",
    "- Training and light aircraft (e.g., BLANIK L-13, SGS-2-33A) also appear in this list, showing that despite frequent usage, their incidents rarely result in fatalities."
   ]
  },
  {
   "cell_type": "markdown",
   "id": "8b3ab273",
   "metadata": {},
   "source": [
    "**Answer :**\n",
    "\n",
    "The analysis shows that the Boeing 777, EMB-145LR, and Boeing 757-232 stand out as the safest aircraft models, with zero recorded fatal accidents despite multiple incidents.\n",
    "\n",
    "This indicates that these aircraft have strong safety performance and are low-risk candidates for the company to consider purchasing for both commercial and private operations."
   ]
  },
  {
   "cell_type": "markdown",
   "id": "45fc9952",
   "metadata": {},
   "source": [
    "#### 3. Accident Risk: Commercial vs Private\n",
    "\n",
    "**Question :** Which type of flights, commercial or private, carry lower overall risk when considering both accident frequency and severity?"
   ]
  },
  {
   "cell_type": "code",
   "execution_count": 61,
   "id": "f8a9e2e8",
   "metadata": {},
   "outputs": [
    {
     "data": {
      "image/png": "[encoded data removed]",
      "text/plain": [
       "<Figure size 864x360 with 2 Axes>"
      ]
     },
     "metadata": {
      "needs_background": "light"
     },
     "output_type": "display_data"
    }
   ],
   "source": [
    "# --- Step 1: Categorize purpose of flight ---\n",
    "def categorize_purpose(x):\n",
    "    x = str(x).lower()\n",
    "    if \"personal\" in x or \"business\" in x or \"executive\" in x:\n",
    "        return \"Private\"\n",
    "    elif any(term in x for term in [\n",
    "        \"instructional\",\"aerial\",\"ferry\",\"banner\",\"race\",\"skydiving\",\"external\",\n",
    "        \"fire\",\"drop\",\"test\"\n",
    "    ]):\n",
    "        return \"Commercial\"\n",
    "    elif \"public\" in x:\n",
    "        return \"Government/Public\"\n",
    "    elif \"unknown\" in x:\n",
    "        return \"Unknown\"\n",
    "    else:\n",
    "        return \"Other\"\n",
    "\n",
    "df['purpose_category'] = df['purpose_of_flight'].apply(categorize_purpose)\n",
    "\n",
    "# --- Step 2: Aggregate accidents and fatalities ---\n",
    "purpose_group = df.groupby('purpose_category').agg(\n",
    "    accident_count=('purpose_category','size'),\n",
    "    total_fatalities=('total_fatal_injuries','sum')\n",
    ").reset_index()\n",
    "\n",
    "purpose_group['fatalities_per_accident'] = (\n",
    "    purpose_group['total_fatalities'] / purpose_group['accident_count']\n",
    ")\n",
    "\n",
    "# --- Step 3: Focus on Commercial vs Private only ---\n",
    "purpose_compare = purpose_group[\n",
    "    purpose_group['purpose_category'].isin(['Commercial','Private'])\n",
    "]\n",
    "\n",
    "# --- Step 4: Plot side-by-side ---\n",
    "fig, axes = plt.subplots(1, 2, figsize=(12,5))\n",
    "\n",
    "# Left: Accident Frequency\n",
    "axes[0].bar(purpose_compare['purpose_category'], purpose_compare['accident_count'],\n",
    "            color=['orange','purple'])\n",
    "axes[0].set_title('Accident Frequency by Flight Type')\n",
    "axes[0].set_ylabel('Number of Accidents')\n",
    "\n",
    "# Right: Accident Severity\n",
    "axes[1].bar(purpose_compare['purpose_category'], purpose_compare['fatalities_per_accident'],\n",
    "            color=['orange','purple'])\n",
    "axes[1].set_title('Accident Severity by Flight Type')\n",
    "axes[1].set_ylabel('Avg Fatalities per Accident')\n",
    "\n",
    "plt.suptitle('Commercial vs Private Flight Risk', fontsize=14, fontweight='bold')\n",
    "plt.tight_layout()\n",
    "plt.show()\n"
   ]
  },
  {
   "cell_type": "markdown",
   "id": "320488af",
   "metadata": {},
   "source": [
    "**Chart Interpretaion :** \n",
    "\n",
    "- In the Accident Frequency chart (left), private flights account for far more accidents compared to commercial flights.\n",
    "\n",
    "- In the Accident Severity chart (right), private flights also show a higher average number of fatalities per accident, while commercial flights have fewer fatalities on average when an accident occurs."
   ]
  },
  {
   "cell_type": "markdown",
   "id": "c3377421",
   "metadata": {},
   "source": [
    "**Answer :**\n",
    "\n",
    "Both the frequency and severity perspectives indicate that **commercial flights are significantly safer than private flights.** \n",
    "\n",
    "Private aviation not only experiences more frequent accidents, but those accidents also tend to be more severe in terms of fatalities.\n",
    "\n",
    "For the company’s investment decision, this strongly suggests that **entering the commercial aviation sector presents lower operational risk compared to private aviation.**"
   ]
  },
  {
   "cell_type": "markdown",
   "id": "fec8685d",
   "metadata": {},
   "source": [
    "#### 4. Accidents Trends Over Time\n",
    "\n",
    "**Question :** Is aviation safety improving or worsening over Time?"
   ]
  },
  {
   "cell_type": "code",
   "execution_count": null,
   "id": "fac8cd90",
   "metadata": {},
   "outputs": [
    {
     "data": {
      "image/png": "[encoded data removed]",
      "text/plain": [
       "<Figure size 720x360 with 1 Axes>"
      ]
     },
     "metadata": {
      "needs_background": "light"
     },
     "output_type": "display_data"
    }
   ],
   "source": [
    "# Count accidents per year\n",
    "accidents_per_year = df['year'].value_counts().sort_index()\n",
    "\n",
    "# Line plot\n",
    "fig , ax = plt.subplots(figsize=(10,5))\n",
    "ax.plot(accidents_per_year.index, accidents_per_year.values )\n",
    "\n",
    "# Labels and title\n",
    "ax.set_title('Accidents Trends Over Time (1962-2023)') \n",
    "ax.set_xlabel('Year')\n",
    "ax.set_ylabel('Number of Accidents') \n",
    "\n",
    "\n",
    "plt.show()"
   ]
  },
  {
   "cell_type": "markdown",
   "id": "e85328ad",
   "metadata": {},
   "source": [
    "**Chart Interpretaion :** \n",
    "- chart shows a sharp rise in recorded accidents starting around 1982.\n",
    "\n",
    "- From the mid-1980s onward, there is a clear downward trend in the number of accidents.\n",
    "\n",
    "- After ~2000, the numbers level off but still show a gradual decline.\n",
    "\n",
    "**Answer :** \n",
    "\n",
    "The number of aviation accidents peaked in the early 1980s but has steadily declined since then (perharps reflecting improvements in technology, safety regulations, and pilot training). \n",
    "This indicates that **aviation safety has improved significantly over time.**"
   ]
  },
  {
   "cell_type": "markdown",
   "id": "ec3a34d5",
   "metadata": {},
   "source": []
  },
  {
   "cell_type": "markdown",
   "id": "6142490c",
   "metadata": {},
   "source": [
    "## 5. Conclusion\n",
    "\n",
    "The analysis of aviation accident data provides clear insights into the safety performance of different **manufacturers, aircraft models, and flight purposes**.  \n",
    "\n",
    "- **Safety has improved significantly over time**, with accidents declining steadily since the 1980s.  \n",
    "- Certain manufacturers (e.g., **Grumman-Schweizer, Raven, Stinson**) and specific models (e.g., **Boeing 777, EMB-145LR, Boeing 757-232**) stand out as historically safe and low-risk.  \n",
    "- **Commercial aviation consistently shows lower accident frequency and severity compared to private aviation**, indicating it is the safer sector for investment.  \n",
    "\n",
    "Overall, the findings strongly suggest that the company should **prioritize commercial aviation operations** and focus on **selecting proven safe models from reliable manufacturers** to minimize risk.  "
   ]
  },
  {
   "cell_type": "markdown",
   "id": "eb72265a",
   "metadata": {},
   "source": [
    "## 6. Recommendations\n",
    "\n",
    "Based on the analysis, the following **actionable recommendations** are proposed:  \n",
    "\n",
    "#### 1. Prioritize Commercial Aviation  \n",
    "- Enter the commercial aviation sector first, as it shows a lower risk profile compared to private aviation (both in accident frequency and severity).  \n",
    "- Position private aviation as a secondary or long-term expansion area once safety protocols are well established.  \n",
    "\n",
    "#### 2. Select Aircraft from Safe Manufacturers and Models  \n",
    "- Focus procurement on manufacturers such as **Grumman-Schweizer, Raven, and Stinson** that historically demonstrate low accident severity.  \n",
    "- For commercial operations, prioritize safe, proven models like the **Boeing 777, EMB-145LR, and Boeing 757-232**, which show zero or negligible fatal accident records.  \n",
    "\n",
    "#### 3. Leverage Safety as a Competitive Advantage  \n",
    "- Highlight investment in historically safe aircraft as part of **marketing and brand positioning**.  \n",
    "- This can help reassure customers, regulators, and insurers that the company prioritizes **passenger safety**.  \n"
   ]
  },
  {
   "cell_type": "markdown",
   "id": "5616ca94",
   "metadata": {},
   "source": [
    "## 7. Next Steps  \n",
    "\n",
    "To strengthen these findings and guide implementation, the following steps are recommended:  \n",
    "\n",
    "#### 1. Operational Validation  \n",
    "- Cross-check safety insights with **operational cost data** (fuel efficiency, maintenance costs, availability of spare parts).  \n",
    "- Ensure selected aircraft are not only safe but also **financially viable**.  \n",
    "\n",
    "#### 2. Regulatory and Regional Analysis  \n",
    "- Investigate accident and safety trends specific to the **regions** where the company intends to operate.  \n",
    "- Regulatory standards, weather patterns, and airport infrastructure may impact **model suitability**.  \n",
    "\n",
    "#### 3. Insurance and Risk Modeling  \n",
    "- Engage with insurers to assess **premiums and coverage differences** across manufacturers and models.  \n",
    "- Build a comprehensive **risk model** combining accident data with **financial and operational factors**.  "
   ]
  }
 ],
 "metadata": {
  "kernelspec": {
   "display_name": "learn-env",
   "language": "python",
   "name": "python3"
  },
  "language_info": {
   "codemirror_mode": {
    "name": "ipython",
    "version": 3
   },
   "file_extension": ".py",
   "mimetype": "text/x-python",
   "name": "python",
   "nbconvert_exporter": "python",
   "pygments_lexer": "ipython3",
   "version": "3.8.5"
  }
 },
 "nbformat": 4,
 "nbformat_minor": 5
}
